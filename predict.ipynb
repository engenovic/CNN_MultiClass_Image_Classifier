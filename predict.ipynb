{
 "cells": [
  {
   "cell_type": "code",
   "execution_count": 8,
   "id": "suspended-needle",
   "metadata": {},
   "outputs": [
    {
     "name": "stdout",
     "output_type": "stream",
     "text": [
      "DAISY\n"
     ]
    }
   ],
   "source": [
    "\n",
    "\"\"\"\n",
    "This is a Multi-Class Image Classifier Model using CNN \n",
    "Project Done by Ngeno Victor::Software Engineer || Artificial Intelligence & Deep Learning Engineer\n",
    "\n",
    "Part 2: Prediction\n",
    "\"\"\"\n",
    "# Import TensorFlow Library\n",
    "import tensorflow as tf \n",
    "# Import numpy Library\n",
    "import numpy as np\n",
    "# For loading an image\n",
    "from keras.preprocessing import image\n",
    "\n",
    "classifierLoad = tf.keras.models.load_model('model.h5')\n",
    "\n",
    "\n",
    "test_image = image.load_img('test/d.jpg', target_size = (200,200))\n",
    "#test_image = image.img_to_array(test_image)\n",
    "test_image = np.expand_dims(test_image, axis=0)\n",
    "result = classifierLoad.predict(test_image)\n",
    "if result[0][1] == 1:\n",
    "    print(\"ROSE\")\n",
    "elif result[0][0] == 1:\n",
    "    print(\"DAISY\")\n",
    "elif result[0][2] == 1:\n",
    "    print(\"SUNFLOWER\")\n",
    "elif result[0][3] == 1:\n",
    "    print(\"DANDELION\")\n",
    "else:\n",
    "    print(\"FOREIGN IMAGE\")"
   ]
  },
  {
   "cell_type": "code",
   "execution_count": null,
   "id": "traditional-omaha",
   "metadata": {},
   "outputs": [],
   "source": []
  }
 ],
 "metadata": {
  "kernelspec": {
   "display_name": "Python 3",
   "language": "python",
   "name": "python3"
  },
  "language_info": {
   "codemirror_mode": {
    "name": "ipython",
    "version": 3
   },
   "file_extension": ".py",
   "mimetype": "text/x-python",
   "name": "python",
   "nbconvert_exporter": "python",
   "pygments_lexer": "ipython3",
   "version": "3.7.7"
  }
 },
 "nbformat": 4,
 "nbformat_minor": 5
}
